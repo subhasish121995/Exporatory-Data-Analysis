{
 "cells": [
  {
   "cell_type": "code",
   "execution_count": null,
   "metadata": {},
   "outputs": [],
   "source": []
  },
  {
   "attachments": {},
   "cell_type": "markdown",
   "metadata": {},
   "source": [
    "## Dataset details and links ##\n",
    "\n",
    "The sample dataset is taken from the Tableau public webiste where there is a beautiful rendition of how the variables are to be viewed in the form of a dashboard. \n",
    "However the df_extra dataset is a random dataset which is synthetically generated. The source cannot be disclosed in this particular notebook.\n",
    "- The link to the dashboard is here : https://www.tableau.com/data-insights/dashboard-showcase/superstore\n",
    "- The link to the datasets are : https://drive.google.com/drive/folders/1Jm5hRf0OFIC9X10CKwmuUHpR0gwCHRHT?usp=share_link\n",
    "\n",
    "This notebook attempts to discover secret patterns in the dataset using a lot of statistical measures and indepedent graphical representations of the data. \n",
    "\n",
    "**Details on how the notebook is to be viewed and handled**\n",
    "- The custom made functions that are used in the notebook are imported from the functions.py file in the same directory so that the main goal of the project is not being deviated.\n",
    "- This particular notebook contains all the information that not plagiarised from any sources. This is a completely independent work and people are open to take references from this notebook.\n",
    "- The datasets used for this particular holds no connection with any personal information and all of this is completely available in the internet for personal usage.\n",
    "- This notebook is to be used exclusively for education purposes."
   ]
  },
  {
   "attachments": {},
   "cell_type": "markdown",
   "metadata": {},
   "source": [
    "**Importing the required libraries**"
   ]
  },
  {
   "cell_type": "code",
   "execution_count": 11,
   "metadata": {},
   "outputs": [],
   "source": [
    "import numpy as np\n",
    "import pandas as pd\n",
    "import matplotlib.pyplot as plt\n",
    "import seaborn as sns\n",
    "import glob\n",
    "import os\n",
    "import warnings\n",
    "warnings.filterwarnings('ignore')\n",
    "import datetime\n",
    "import math\n",
    "from functions import col_names"
   ]
  },
  {
   "cell_type": "code",
   "execution_count": 2,
   "metadata": {},
   "outputs": [
    {
     "name": "stdout",
     "output_type": "stream",
     "text": [
      "(9994, 21) (296, 2) (4, 2) (136, 4)\n"
     ]
    }
   ],
   "source": [
    "#importing the required datasets\n",
    "df_orders = pd.read_excel(r\"C:\\Users\\subha\\Downloads\\sample_-_superstore.xlsx\", sheet_name= 'Orders')\n",
    "df_returns = pd.read_excel(r\"C:\\Users\\subha\\Downloads\\sample_-_superstore.xlsx\", sheet_name = \"Returns\")\n",
    "df_people = pd.read_excel(r\"C:\\Users\\subha\\Downloads\\sample_-_superstore.xlsx\", sheet_name = \"People\")\n",
    "df_extra = pd.read_csv(r\"C:\\Users\\subha\\Downloads\\Superstore event data.xlsx - Sheet1.csv\")\n",
    "\n",
    "print(df_orders.shape, df_returns.shape, df_people.shape, df_extra.shape)"
   ]
  },
  {
   "cell_type": "code",
   "execution_count": 5,
   "metadata": {},
   "outputs": [
    {
     "name": "stdout",
     "output_type": "stream",
     "text": [
      "<class 'pandas.core.frame.DataFrame'>\n",
      "RangeIndex: 9994 entries, 0 to 9993\n",
      "Data columns (total 21 columns):\n",
      " #   Column         Non-Null Count  Dtype         \n",
      "---  ------         --------------  -----         \n",
      " 0   Row ID         9994 non-null   int64         \n",
      " 1   Order ID       9994 non-null   object        \n",
      " 2   Order Date     9994 non-null   datetime64[ns]\n",
      " 3   Ship Date      9994 non-null   datetime64[ns]\n",
      " 4   Ship Mode      9994 non-null   object        \n",
      " 5   Customer ID    9994 non-null   object        \n",
      " 6   Customer Name  9994 non-null   object        \n",
      " 7   Segment        9994 non-null   object        \n",
      " 8   Country        9994 non-null   object        \n",
      " 9   City           9994 non-null   object        \n",
      " 10  State          9994 non-null   object        \n",
      " 11  Postal Code    9994 non-null   int64         \n",
      " 12  Region         9994 non-null   object        \n",
      " 13  Product ID     9994 non-null   object        \n",
      " 14  Category       9994 non-null   object        \n",
      " 15  Sub-Category   9994 non-null   object        \n",
      " 16  Product Name   9994 non-null   object        \n",
      " 17  Sales          9994 non-null   float64       \n",
      " 18  Quantity       9994 non-null   int64         \n",
      " 19  Discount       9994 non-null   float64       \n",
      " 20  Profit         9994 non-null   float64       \n",
      "dtypes: datetime64[ns](2), float64(3), int64(3), object(13)\n",
      "memory usage: 1.6+ MB\n"
     ]
    }
   ],
   "source": [
    "df_orders.info()"
   ]
  },
  {
   "cell_type": "code",
   "execution_count": 6,
   "metadata": {},
   "outputs": [
    {
     "name": "stdout",
     "output_type": "stream",
     "text": [
      "<class 'pandas.core.frame.DataFrame'>\n",
      "RangeIndex: 296 entries, 0 to 295\n",
      "Data columns (total 2 columns):\n",
      " #   Column    Non-Null Count  Dtype \n",
      "---  ------    --------------  ----- \n",
      " 0   Returned  296 non-null    object\n",
      " 1   Order ID  296 non-null    object\n",
      "dtypes: object(2)\n",
      "memory usage: 4.8+ KB\n"
     ]
    }
   ],
   "source": [
    "df_returns.info()"
   ]
  },
  {
   "cell_type": "code",
   "execution_count": 7,
   "metadata": {},
   "outputs": [
    {
     "name": "stdout",
     "output_type": "stream",
     "text": [
      "<class 'pandas.core.frame.DataFrame'>\n",
      "RangeIndex: 4 entries, 0 to 3\n",
      "Data columns (total 2 columns):\n",
      " #   Column  Non-Null Count  Dtype \n",
      "---  ------  --------------  ----- \n",
      " 0   Person  4 non-null      object\n",
      " 1   Region  4 non-null      object\n",
      "dtypes: object(2)\n",
      "memory usage: 192.0+ bytes\n"
     ]
    }
   ],
   "source": [
    "df_people.info()"
   ]
  },
  {
   "cell_type": "code",
   "execution_count": 8,
   "metadata": {},
   "outputs": [
    {
     "name": "stdout",
     "output_type": "stream",
     "text": [
      "<class 'pandas.core.frame.DataFrame'>\n",
      "RangeIndex: 136 entries, 0 to 135\n",
      "Data columns (total 4 columns):\n",
      " #   Column          Non-Null Count  Dtype \n",
      "---  ------          --------------  ----- \n",
      " 0   Promotion Date  136 non-null    object\n",
      " 1   Manufacturer    136 non-null    object\n",
      " 2   Category        136 non-null    object\n",
      " 3   Promotion Type  136 non-null    object\n",
      "dtypes: object(4)\n",
      "memory usage: 4.4+ KB\n"
     ]
    }
   ],
   "source": [
    "df_extra.info()"
   ]
  },
  {
   "cell_type": "code",
   "execution_count": 13,
   "metadata": {},
   "outputs": [
    {
     "name": "stdout",
     "output_type": "stream",
     "text": [
      "Index(['row_id', 'order_id', 'order_date', 'ship_date', 'ship_mode',\n",
      "       'customer_id', 'customer_name', 'segment', 'country', 'city', 'state',\n",
      "       'postal_code', 'region', 'product_id', 'category', 'sub-category',\n",
      "       'product_name', 'sales', 'quantity', 'discount', 'profit'],\n",
      "      dtype='object') Index(['returned', 'order_id'], dtype='object') Index(['person', 'region'], dtype='object') Index(['promotion_date', 'manufacturer', 'category', 'promotion_type'], dtype='object')\n"
     ]
    }
   ],
   "source": [
    "#formatting the column names for each and every dataframes\n",
    "dataframes = [df_orders, df_returns, df_people, df_extra]\n",
    "for i in dataframes:\n",
    "    col_names(i)\n",
    "print(df_orders.columns, df_returns.columns, df_people.columns, df_extra.columns)"
   ]
  },
  {
   "cell_type": "code",
   "execution_count": null,
   "metadata": {},
   "outputs": [],
   "source": []
  }
 ],
 "metadata": {
  "kernelspec": {
   "display_name": "base",
   "language": "python",
   "name": "python3"
  },
  "language_info": {
   "codemirror_mode": {
    "name": "ipython",
    "version": 3
   },
   "file_extension": ".py",
   "mimetype": "text/x-python",
   "name": "python",
   "nbconvert_exporter": "python",
   "pygments_lexer": "ipython3",
   "version": "3.9.7"
  },
  "orig_nbformat": 4
 },
 "nbformat": 4,
 "nbformat_minor": 2
}
